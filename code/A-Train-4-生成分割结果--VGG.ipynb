{
 "cells": [
  {
   "cell_type": "code",
   "execution_count": 1,
   "metadata": {
    "scrolled": true
   },
   "outputs": [
    {
     "name": "stderr",
     "output_type": "stream",
     "text": [
      "/home/leonard/anaconda2/lib/python2.7/site-packages/h5py/__init__.py:36: FutureWarning: Conversion of the second argument of issubdtype from `float` to `np.floating` is deprecated. In future, it will be treated as `np.float64 == np.dtype(float).type`.\n",
      "  from ._conv import register_converters as _register_converters\n",
      "Using TensorFlow backend.\n"
     ]
    }
   ],
   "source": [
    "from utils.imports import *"
   ]
  },
  {
   "cell_type": "markdown",
   "metadata": {},
   "source": [
    "## Train"
   ]
  },
  {
   "cell_type": "code",
   "execution_count": 2,
   "metadata": {},
   "outputs": [],
   "source": [
    "src = PATH['model_train_pred']\n",
    "model_paths = PATH['model_final']\n",
    "model_fenge_path=model_paths + 'final_fenge_VGG.h5'\n",
    "model = load_model(model_fenge_path, custom_objects={'dice_coef_loss': dice_coef_loss, 'dice_coef': dice_coef})\n",
    "#anno = pd.read_csv(csv_path + 'annotations.csv')"
   ]
  },
  {
   "cell_type": "markdown",
   "metadata": {},
   "source": [
    "## 生成分割结果npy+csv"
   ]
  },
  {
   "cell_type": "code",
   "execution_count": 3,
   "metadata": {},
   "outputs": [],
   "source": [
    "patients = [x for x in os.listdir(src) if 'orig' in x]"
   ]
  },
  {
   "cell_type": "code",
   "execution_count": 4,
   "metadata": {},
   "outputs": [
    {
     "name": "stderr",
     "output_type": "stream",
     "text": [
      "100%|██████████| 800/800 [24:12:13<00:00, 108.92s/it]   \n"
     ]
    }
   ],
   "source": [
    "for patient in tqdm(sorted(patients)):\n",
    "    pred_samples(src,patient,model)"
   ]
  },
  {
   "cell_type": "markdown",
   "metadata": {},
   "source": [
    "## 获取分割结果csv"
   ]
  },
  {
   "cell_type": "code",
   "execution_count": 5,
   "metadata": {},
   "outputs": [],
   "source": [
    "patients = [x for x in os.listdir(src) if 'pred.npy' in x]    "
   ]
  },
  {
   "cell_type": "code",
   "execution_count": 6,
   "metadata": {},
   "outputs": [
    {
     "name": "stderr",
     "output_type": "stream",
     "text": [
      "100%|██████████| 800/800 [3:10:17<00:00, 14.27s/it]  \n"
     ]
    }
   ],
   "source": [
    "empty0 = pandas.DataFrame({'seriesuid':[],'coordX':[],'coordY':[],'coordZ':[],'diameter_mm':[]})\n",
    "empty1 = pandas.DataFrame({'seriesuid':[],'coordX':[],'coordY':[],'coordZ':[],'diameter_mm':[]})\n",
    "empty2 = pandas.DataFrame({'seriesuid':[],'coordX':[],'coordY':[],'coordZ':[],'diameter_mm':[]})\n",
    "\n",
    "for img_file in tqdm(sorted(patients)):\n",
    "    patient_id = img_file[:-9]\n",
    "    img_array = np.load(src + img_file)\n",
    "    #img_array[img_array < 0.5] = 0\n",
    "    pos_annos = pd.read_csv(src + img_file[:-9] + '_annos_pos.csv')\n",
    "    origin = np.array([pos_annos.loc[0]['origin_x'],pos_annos.loc[0]['origin_y'],pos_annos.loc[0]['origin_z']]) \n",
    "    spacing = np.array([pos_annos.loc[0]['spacing_x'],pos_annos.loc[0]['spacing_y'],pos_annos.loc[0]['spacing_z']])     \n",
    "    temp = np.squeeze(img_array)\n",
    "    \n",
    "\n",
    "    labels0 = skimage.measure.label(np.squeeze(temp))    \n",
    "    props0 = skimage.measure.regionprops(labels0)\n",
    "    for i in range(len(props0)):     \n",
    "        if props0[i]['EquivDiameter'] > 3:\n",
    "            world_coordinates0 = voxel_2_world([props0[i]['Centroid'][2], \n",
    "                                                props0[i]['Centroid'][1], \n",
    "                                                props0[i]['Centroid'][0]], origin, spacing)\n",
    "            insertrow0 = pd.DataFrame([[patient_id,\n",
    "                                      world_coordinates0[0],\n",
    "                                      world_coordinates0[1],\n",
    "                                      world_coordinates0[2],\n",
    "                                      props0[i]['EquivDiameter']]],columns = ['seriesuid','coordX','coordY','coordZ','diameter_mm'])\n",
    "        \n",
    "            empty0 = empty0.append(insertrow0,ignore_index=True)\n",
    "    \n",
    "    temp1 = skimage.morphology.opening(np.squeeze(temp), np.ones([3,3,3]))\n",
    "    labels1 = skimage.measure.label(np.squeeze(temp1))    \n",
    "    props1 = skimage.measure.regionprops(labels1)\n",
    "    \n",
    "    for i in range(len(props1)):     \n",
    "        if props1[i]['EquivDiameter'] > 3:\n",
    "            world_coordinates1 = voxel_2_world([props1[i]['Centroid'][2], \n",
    "                                                props1[i]['Centroid'][1], \n",
    "                                                props1[i]['Centroid'][0]], origin, spacing)               \n",
    "        \n",
    "            insertrow1 = pd.DataFrame([[patient_id,\n",
    "                                      world_coordinates1[0],\n",
    "                                      world_coordinates1[1],\n",
    "                                      world_coordinates1[2],\n",
    "                                      props1[i]['EquivDiameter']]],columns = ['seriesuid','coordX','coordY','coordZ','diameter_mm'])\n",
    "        \n",
    "            empty1 = empty1.append(insertrow1,ignore_index=True)\n",
    "        \n",
    "    temp2 = skimage.morphology.opening(np.squeeze(temp), np.ones([5,5,5]))\n",
    "    labels2 = skimage.measure.label(np.squeeze(temp2))    \n",
    "    props2 = skimage.measure.regionprops(labels2)\n",
    "    for i in range(len(props2)):\n",
    "        if props2[i]['EquivDiameter'] > 3:\n",
    "            world_coordinates2 = voxel_2_world([props2[i]['Centroid'][2], \n",
    "                                                props2[i]['Centroid'][1], \n",
    "                                                props2[i]['Centroid'][0]], origin, spacing)               \n",
    "        \n",
    "            insertrow2 = pd.DataFrame([[patient_id,\n",
    "                                      world_coordinates2[0],\n",
    "                                      world_coordinates2[1],\n",
    "                                      world_coordinates2[2],\n",
    "                                      props2[i]['EquivDiameter']]],columns = ['seriesuid','coordX','coordY','coordZ','diameter_mm'])\n",
    "        \n",
    "            empty2 = empty2.append(insertrow2,ignore_index=True)\n",
    "            \n",
    "empty0 = empty0[['seriesuid','coordX','coordY','coordZ','diameter_mm']]\n",
    "empty1 = empty1[['seriesuid','coordX','coordY','coordZ','diameter_mm']]\n",
    "empty2 = empty2[['seriesuid','coordX','coordY','coordZ','diameter_mm']] "
   ]
  },
  {
   "cell_type": "code",
   "execution_count": 7,
   "metadata": {},
   "outputs": [],
   "source": [
    "empty0.to_csv(src + \"0_vgg_final_result.csv\", index=False)\n",
    "empty1.to_csv(src + \"1_vgg_final_result.csv\", index=False)\n",
    "empty2.to_csv(src + \"2_vgg_final_result.csv\", index=False)"
   ]
  },
  {
   "cell_type": "code",
   "execution_count": null,
   "metadata": {},
   "outputs": [],
   "source": []
  }
 ],
 "metadata": {
  "kernelspec": {
   "display_name": "Python 2",
   "language": "python",
   "name": "python2"
  },
  "language_info": {
   "codemirror_mode": {
    "name": "ipython",
    "version": 2
   },
   "file_extension": ".py",
   "mimetype": "text/x-python",
   "name": "python",
   "nbconvert_exporter": "python",
   "pygments_lexer": "ipython2",
   "version": "2.7.14"
  }
 },
 "nbformat": 4,
 "nbformat_minor": 2
}
